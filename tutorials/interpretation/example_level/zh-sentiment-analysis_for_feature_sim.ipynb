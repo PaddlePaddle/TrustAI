{
 "cells": [
  {
   "cell_type": "markdown",
   "metadata": {},
   "source": [
    "# Load the Pretrained Model and the Dataset"
   ]
  },
  {
   "cell_type": "code",
   "execution_count": 1,
   "metadata": {},
   "outputs": [],
   "source": [
    "import sys\n",
    "\n",
    "sys.path.insert(0, \"../..\")\n",
    "sys.path.insert(0, \"../../../\")"
   ]
  },
  {
   "cell_type": "code",
   "execution_count": 2,
   "metadata": {},
   "outputs": [
    {
     "name": "stderr",
     "output_type": "stream",
     "text": [
      "\u001b[32m[2022-06-07 11:42:22,184] [    INFO]\u001b[0m - Already cached /home/zhangshuai/.paddlenlp/models/ernie-1.0/ernie_v1_chn_base.pdparams\u001b[0m\n",
      "W0607 11:42:22.187671 22920 device_context.cc:447] Please NOTE: device: 0, GPU Compute Capability: 7.0, Driver API Version: 11.4, Runtime API Version: 10.2\n",
      "W0607 11:42:22.193305 22920 device_context.cc:465] device: 0, cuDNN Version: 8.2.\n",
      "\u001b[32m[2022-06-07 11:42:29,432] [    INFO]\u001b[0m - Already cached /home/zhangshuai/.paddlenlp/models/ernie-1.0/vocab.txt\u001b[0m\n"
     ]
    }
   ],
   "source": [
    "import paddle\n",
    "import paddlenlp\n",
    "from paddlenlp.transformers import ErnieForSequenceClassification, ErnieTokenizer\n",
    "\n",
    "MODEL_NAME = 'ernie-1.0'\n",
    "\n",
    "model = ErnieForSequenceClassification.from_pretrained(MODEL_NAME, num_classes=2)\n",
    "tokenizer = ErnieTokenizer.from_pretrained(MODEL_NAME)"
   ]
  },
  {
   "cell_type": "code",
   "execution_count": 3,
   "metadata": {},
   "outputs": [],
   "source": [
    "from paddlenlp.datasets import load_dataset\n",
    "\n",
    "DATASET_NAME = 'chnsenticorp'\n",
    "train_ds, dev_ds, test_ds = load_dataset(DATASET_NAME, splits=[\"train\", \"dev\", \"test\"])"
   ]
  },
  {
   "cell_type": "markdown",
   "metadata": {},
   "source": [
    "# Prepare the Model\n",
    "## Train the model"
   ]
  },
  {
   "cell_type": "code",
   "execution_count": null,
   "metadata": {},
   "outputs": [],
   "source": [
    "from assets.utils import training_model\n",
    "\n",
    "training_model(model, tokenizer, train_ds, dev_ds, save_dir=f'../../assets/{DATASET_NAME}-{MODEL_NAME}')\n"
   ]
  },
  {
   "cell_type": "markdown",
   "metadata": {},
   "source": [
    "## Or Load the trained model"
   ]
  },
  {
   "cell_type": "code",
   "execution_count": 4,
   "metadata": {},
   "outputs": [
    {
     "name": "stdout",
     "output_type": "stream",
     "text": [
      "--2022-06-07 11:42:29--  https://trustai.bj.bcebos.com/chnsenticorp-ernie-1.0.tar\n",
      "Resolving trustai.bj.bcebos.com (trustai.bj.bcebos.com)... 10.70.0.165\n",
      "Connecting to trustai.bj.bcebos.com (trustai.bj.bcebos.com)|10.70.0.165|:443... connected.\n",
      "HTTP request sent, awaiting response... 200 OK\n",
      "Length: 399595520 (381M) [application/x-tar]\n",
      "Saving to: ‘chnsenticorp-ernie-1.0.tar’\n",
      "\n",
      "100%[======================================>] 399,595,520 91.1MB/s   in 4.5s   \n",
      "\n",
      "2022-06-07 11:42:34 (84.1 MB/s) - ‘chnsenticorp-ernie-1.0.tar’ saved [399595520/399595520]\n",
      "\n",
      "chnsenticorp-ernie-1.0/\n",
      "chnsenticorp-ernie-1.0/tokenizer_config.json\n",
      "chnsenticorp-ernie-1.0/vocab.txt\n",
      "chnsenticorp-ernie-1.0/model_state.pdparams\n",
      "chnsenticorp-ernie-1.0/model_config.json\n"
     ]
    }
   ],
   "source": [
    "# Load the trained model.\n",
    "!wget --no-check-certificate -c https://trustai.bj.bcebos.com/chnsenticorp-ernie-1.0.tar\n",
    "!tar -xvf ./chnsenticorp-ernie-1.0.tar -C ../../assets/\n",
    "!rm ./chnsenticorp-ernie-1.0.tar\n",
    "\n",
    "state_dict = paddle.load(f'../../assets/{DATASET_NAME}-{MODEL_NAME}/model_state.pdparams')\n",
    "model.set_dict(state_dict)"
   ]
  },
  {
   "cell_type": "markdown",
   "metadata": {},
   "source": [
    "# See the prediciton results"
   ]
  },
  {
   "cell_type": "code",
   "execution_count": 5,
   "metadata": {},
   "outputs": [
    {
     "name": "stdout",
     "output_type": "stream",
     "text": [
      "Data: {'text': '没有光驱,重装Windows需要外接光驱,对于电脑新手会很麻烦(没什么人会用Linux吧)'} \t Lable: negative\n"
     ]
    }
   ],
   "source": [
    "from assets.utils import predict\n",
    "\n",
    "test_data = [{'text': '没有光驱,重装Windows需要外接光驱,对于电脑新手会很麻烦(没什么人会用Linux吧)'}]\n",
    "\n",
    "label_map = {0: 'negative', 1: 'positive'}\n",
    "\n",
    "batch_size = 32\n",
    "\n",
    "results = predict(\n",
    "    model, test_data, tokenizer, label_map, batch_size=batch_size)\n",
    "\n",
    "for idx, text in enumerate(test_data):\n",
    "    print('Data: {} \\t Lable: {}'.format(text, results[idx]))"
   ]
  },
  {
   "cell_type": "markdown",
   "metadata": {},
   "source": [
    "# Prepare for Interpretations"
   ]
  },
  {
   "cell_type": "code",
   "execution_count": 6,
   "metadata": {},
   "outputs": [],
   "source": [
    "from functools import partial\n",
    "\n",
    "from paddlenlp.data import Stack, Tuple, Pad\n",
    "\n",
    "from assets.utils import create_dataloader, convert_example\n",
    "\n",
    "\n",
    "batch_size = 32\n",
    "max_seq_length = 128\n",
    "\n",
    "trans_func = partial(\n",
    "        convert_example,\n",
    "        tokenizer=tokenizer,\n",
    "        max_seq_length=max_seq_length,\n",
    "        is_test=True,\n",
    "    )\n",
    "batchify_fn = lambda samples, fn=Tuple(\n",
    "    Pad(axis=0, pad_val=tokenizer.pad_token_id),  # input\n",
    "    Pad(axis=0, pad_val=tokenizer.pad_token_type_id),  # segment\n",
    "): [data for data in fn(samples)]\n",
    "train_data_loader = create_dataloader(\n",
    "    train_ds,\n",
    "    mode='train',\n",
    "    batch_size=batch_size,\n",
    "    batchify_fn=batchify_fn,\n",
    "    trans_fn=trans_func,\n",
    "    shuffle=False)"
   ]
  },
  {
   "cell_type": "markdown",
   "metadata": {},
   "source": [
    "# Feature similarity Interpreter"
   ]
  },
  {
   "cell_type": "code",
   "execution_count": 7,
   "metadata": {
    "tags": []
   },
   "outputs": [
    {
     "name": "stdout",
     "output_type": "stream",
     "text": [
      "Extracting feature for given dataloader, it will take some time...\n"
     ]
    }
   ],
   "source": [
    "from trustai.interpretation import FeatureSimilarityModel\n",
    "\n",
    "# classifier_layer_name is the layer name of the last output layer\n",
    "feature_sim = FeatureSimilarityModel(model, train_data_loader, classifier_layer_name='classifier')"
   ]
  },
  {
   "cell_type": "markdown",
   "metadata": {},
   "source": [
    "In feature similarity, Similarity function supports `cos` , `dot` and `euc`, namely `Cosine simmilarity`, `Dot product` and `Euclidean distance`."
   ]
  },
  {
   "cell_type": "markdown",
   "metadata": {},
   "source": [
    "Using cosine simmilarity:"
   ]
  },
  {
   "cell_type": "code",
   "execution_count": 9,
   "metadata": {},
   "outputs": [
    {
     "name": "stdout",
     "output_type": "stream",
     "text": [
      "Extracting feature for given dataloader, it will take some time...\n",
      "test data\n",
      "text: 没有光驱,重装Windows需要外接光驱,对于电脑新手会很麻烦(没什么人会用Linux吧)\tpredict label: 0\n",
      "examples with positive influence\n",
      "text: Linux系统不太好用,平时习惯用Windows xp 系统,一下子用这个系统感觉很不习惯,建议开发或预装Windows xp系统.\tgold label: 0\tscore: 0.9393996000289917\n",
      "text: 1、机器较沉 2、VISTA用起来不习惯，且占系统较多 3、音频插口、右前侧的二个USB口在用鼠标时感觉手靠得太近了\tgold label: 0\tscore: 0.9354583621025085\n",
      "text: vista系统下也没有无线网卡驱动，用驱动精灵可解决。 机器稍有点重。 散热有待改进。\tgold label: 0\tscore: 0.9348428249359131\n",
      "examples with negative influence\n",
      "text: “任务型教学”在我国外语教学界备受关注。国家教育部新《英语课程标准》将“倡导‘任务型’的教学途径，培养学生综合语言运用能力”写入教学建议。任务型教学被视为改革我国传统外语教学的良方。本书立足我国外语教学现状，全面分析了“任务型教学”的理论和实践基础、以实例说明“任务型教学”的具体操作步骤。为广大一线英语教师提供了教学和研究参考。\tgold label: 1\tscore: -0.12422356754541397\n",
      "text: 当美国发生次贷危机乃至影响全世界以后，对于应对危机，我们国内的绝大多数专家对此都异口同声，观点基本雷同，而且又莫衷一是，人云亦云，本书的作者以其独特的视觉和丰富的知识，在书中告诉我们这次危机的来龙去脉，我们国家应该以怎样的方式去直面这次危机，如何转危为安，化危为机；作为普通读者也能从书中领会到一些对自己有益的知识。读完这本书以后，你更能体会到一种不一样的思维，非常值得一读。\tgold label: 1\tscore: -0.128561332821846\n",
      "text: 我从06年开始几乎每月都有一次出差，山西很多酒店都住过了，印象最深的就是三晋国际，其他还有龙城国际，华苑宾馆，黄河京都，还有一个叫什么交通大厦的，下面我对这些酒店做个最真实、准确地点评： 三晋国际——这是我认为最让太原市骄傲的酒店，我们衡量一个酒店的最直接的就是你能够得到什么服务，在这家酒店里，我感觉到了家一般的照顾，第一次来这里，感冒了，嘴里冷不丁说了一句，服务生就听到了，然后熬了一碗姜汤到我房间，当然也是免费的，很感动；洗澡时，一不小心摔倒了，副总经理、总监等等都慰问了我，其实这也不完全是酒店的错，但是从那以后，我发现每个房间浴室都放置了防滑垫和塑料拖鞋；有一次我把袜子之类的放在洗手间了，谁知道我回来后竟然发现服务员帮我免费清洗了，还把我不小心掰断的心爱的梳子还用胶给我粘好了，还留了言给我，真的很让我意外也有点不敢相信！对一个出差特别频繁，时间特别紧张的人来说，办理入住和退房就是一个最让人烦躁的时间，但是我算过了，三晋国际前台办理退房、入住的时间没有超过一分钟！！！在北京都很难有这样的待遇！其他的，比如前台接待、门厅服务之类的就不用说了，真的很好； 当然我也有建议：1、酒店的被子能否换厚一点的，冬天冷啊；2、一些房间的电话没有免提，不是很方便；3、外面的电话打不进来，可能是酒店为了安全考虑吧，但还是希望能够有外线拨入的功能。 龙城国际——不知道五星级是谁给的评价？！酒店一般，还不如华苑宾馆，无法容忍的是，前台接待服务态度太差了！唯一的优点是，早餐挺好吃。 华苑宾馆——06、07年都挺好的，今天偶尔又住了一下，发现时间长了，枕头、被子不是很干净，其他倒是挺好的，服务态度、环境都还不错，早餐有点单一。 黄河京都——地方太偏了！看起来挺好，住进去不咋地，无法容忍的是，也给大家提个醒，我退房的时间整整用了29分钟，快半个钟头了，我差点晕倒！结帐的服务员只顾打电话，不理我。 交通大厦——噩梦般的酒店，我再也不会住了！！隔音效果太差，还不幸地让我听到了隔壁小两口的闺房密语，哈哈，让我坐噩梦的是，半夜不知道什么单位来查房，从好多房间带走了好多女孩子，好怕怕地说……还有就是前台一个戴眼镜的，白白的女孩子，态度可真差啊，郁闷！ 太原还有好多酒店，可能我不会一一住到，但还是希望所有的酒店都能够像三晋国际一样，给山西人长脸！\tgold label: 1\tscore: -0.17390453815460205\n",
      "\n"
     ]
    }
   ],
   "source": [
    "from assets.utils import create_dataloader_from_scratch, print_result\n",
    "\n",
    "test_data = [{'text': '没有光驱,重装Windows需要外接光驱,对于电脑新手会很麻烦(没什么人会用Linux吧)'}]\n",
    "\n",
    "# process text to model input\n",
    "test_dataloader = create_dataloader_from_scratch(test_data, tokenizer)\n",
    "\n",
    "sim_fn = \"cos\"\n",
    "sample_num = 3\n",
    "res = feature_sim.interpret(test_dataloader, sample_num=sample_num, sim_fn=sim_fn)\n",
    "\n",
    "print_result(test_data, train_ds, res, data_name='chnsenticorp')\n"
   ]
  },
  {
   "cell_type": "markdown",
   "metadata": {},
   "source": [
    "Using Dot product:"
   ]
  },
  {
   "cell_type": "code",
   "execution_count": 10,
   "metadata": {},
   "outputs": [
    {
     "name": "stdout",
     "output_type": "stream",
     "text": [
      "Extracting feature for given dataloader, it will take some time...\n",
      "test data\n",
      "text: 没有光驱,重装Windows需要外接光驱,对于电脑新手会很麻烦(没什么人会用Linux吧)\tpredict label: 0\n",
      "examples with positive influence\n",
      "text: Linux系统不太好用,平时习惯用Windows xp 系统,一下子用这个系统感觉很不习惯,建议开发或预装Windows xp系统.\tgold label: 0\tscore: 510.1300354003906\n",
      "text: 装系统比较麻烦，建议找专业人员安装。 桌面图标太大，不太美观。\tgold label: 0\tscore: 507.4688415527344\n",
      "text: 摄像头似乎有点问题,音孔太紧,开机太慢,刚买蓝屏一次,太巨型,光驱太劣质,接口没全开\tgold label: 0\tscore: 507.4252014160156\n",
      "examples with negative influence\n",
      "text: “任务型教学”在我国外语教学界备受关注。国家教育部新《英语课程标准》将“倡导‘任务型’的教学途径，培养学生综合语言运用能力”写入教学建议。任务型教学被视为改革我国传统外语教学的良方。本书立足我国外语教学现状，全面分析了“任务型教学”的理论和实践基础、以实例说明“任务型教学”的具体操作步骤。为广大一线英语教师提供了教学和研究参考。\tgold label: 1\tscore: -65.31314086914062\n",
      "text: 当美国发生次贷危机乃至影响全世界以后，对于应对危机，我们国内的绝大多数专家对此都异口同声，观点基本雷同，而且又莫衷一是，人云亦云，本书的作者以其独特的视觉和丰富的知识，在书中告诉我们这次危机的来龙去脉，我们国家应该以怎样的方式去直面这次危机，如何转危为安，化危为机；作为普通读者也能从书中领会到一些对自己有益的知识。读完这本书以后，你更能体会到一种不一样的思维，非常值得一读。\tgold label: 1\tscore: -67.85609436035156\n",
      "text: 我从06年开始几乎每月都有一次出差，山西很多酒店都住过了，印象最深的就是三晋国际，其他还有龙城国际，华苑宾馆，黄河京都，还有一个叫什么交通大厦的，下面我对这些酒店做个最真实、准确地点评： 三晋国际——这是我认为最让太原市骄傲的酒店，我们衡量一个酒店的最直接的就是你能够得到什么服务，在这家酒店里，我感觉到了家一般的照顾，第一次来这里，感冒了，嘴里冷不丁说了一句，服务生就听到了，然后熬了一碗姜汤到我房间，当然也是免费的，很感动；洗澡时，一不小心摔倒了，副总经理、总监等等都慰问了我，其实这也不完全是酒店的错，但是从那以后，我发现每个房间浴室都放置了防滑垫和塑料拖鞋；有一次我把袜子之类的放在洗手间了，谁知道我回来后竟然发现服务员帮我免费清洗了，还把我不小心掰断的心爱的梳子还用胶给我粘好了，还留了言给我，真的很让我意外也有点不敢相信！对一个出差特别频繁，时间特别紧张的人来说，办理入住和退房就是一个最让人烦躁的时间，但是我算过了，三晋国际前台办理退房、入住的时间没有超过一分钟！！！在北京都很难有这样的待遇！其他的，比如前台接待、门厅服务之类的就不用说了，真的很好； 当然我也有建议：1、酒店的被子能否换厚一点的，冬天冷啊；2、一些房间的电话没有免提，不是很方便；3、外面的电话打不进来，可能是酒店为了安全考虑吧，但还是希望能够有外线拨入的功能。 龙城国际——不知道五星级是谁给的评价？！酒店一般，还不如华苑宾馆，无法容忍的是，前台接待服务态度太差了！唯一的优点是，早餐挺好吃。 华苑宾馆——06、07年都挺好的，今天偶尔又住了一下，发现时间长了，枕头、被子不是很干净，其他倒是挺好的，服务态度、环境都还不错，早餐有点单一。 黄河京都——地方太偏了！看起来挺好，住进去不咋地，无法容忍的是，也给大家提个醒，我退房的时间整整用了29分钟，快半个钟头了，我差点晕倒！结帐的服务员只顾打电话，不理我。 交通大厦——噩梦般的酒店，我再也不会住了！！隔音效果太差，还不幸地让我听到了隔壁小两口的闺房密语，哈哈，让我坐噩梦的是，半夜不知道什么单位来查房，从好多房间带走了好多女孩子，好怕怕地说……还有就是前台一个戴眼镜的，白白的女孩子，态度可真差啊，郁闷！ 太原还有好多酒店，可能我不会一一住到，但还是希望所有的酒店都能够像三晋国际一样，给山西人长脸！\tgold label: 1\tscore: -89.68988800048828\n",
      "\n"
     ]
    }
   ],
   "source": [
    "sim_fn = \"dot\"\n",
    "\n",
    "res = feature_sim.interpret(test_dataloader, sample_num=sample_num, sim_fn=sim_fn )\n",
    "\n",
    "print_result(test_data, train_ds, res, data_name='chnsenticorp')"
   ]
  },
  {
   "cell_type": "markdown",
   "metadata": {},
   "source": [
    "Using Euclidean distance:"
   ]
  },
  {
   "cell_type": "code",
   "execution_count": 11,
   "metadata": {},
   "outputs": [
    {
     "name": "stdout",
     "output_type": "stream",
     "text": [
      "Extracting feature for given dataloader, it will take some time...\n",
      "test data\n",
      "text: 没有光驱,重装Windows需要外接光驱,对于电脑新手会很麻烦(没什么人会用Linux吧)\tpredict label: 0\n",
      "examples with positive influence\n",
      "text: Linux系统不太好用,平时习惯用Windows xp 系统,一下子用这个系统感觉很不习惯,建议开发或预装Windows xp系统.\tgold label: 0\tscore: -8.115217208862305\n",
      "text: 1、机器较沉 2、VISTA用起来不习惯，且占系统较多 3、音频插口、右前侧的二个USB口在用鼠标时感觉手靠得太近了\tgold label: 0\tscore: -8.313434600830078\n",
      "text: vista系统下也没有无线网卡驱动，用驱动精灵可解决。 机器稍有点重。 散热有待改进。\tgold label: 0\tscore: -8.38914966583252\n",
      "examples with negative influence\n",
      "text: “任务型教学”在我国外语教学界备受关注。国家教育部新《英语课程标准》将“倡导‘任务型’的教学途径，培养学生综合语言运用能力”写入教学建议。任务型教学被视为改革我国传统外语教学的良方。本书立足我国外语教学现状，全面分析了“任务型教学”的理论和实践基础、以实例说明“任务型教学”的具体操作步骤。为广大一线英语教师提供了教学和研究参考。\tgold label: 1\tscore: -34.38697814941406\n",
      "text: 当美国发生次贷危机乃至影响全世界以后，对于应对危机，我们国内的绝大多数专家对此都异口同声，观点基本雷同，而且又莫衷一是，人云亦云，本书的作者以其独特的视觉和丰富的知识，在书中告诉我们这次危机的来龙去脉，我们国家应该以怎样的方式去直面这次危机，如何转危为安，化危为机；作为普通读者也能从书中领会到一些对自己有益的知识。读完这本书以后，你更能体会到一种不一样的思维，非常值得一读。\tgold label: 1\tscore: -34.51872634887695\n",
      "text: 我从06年开始几乎每月都有一次出差，山西很多酒店都住过了，印象最深的就是三晋国际，其他还有龙城国际，华苑宾馆，黄河京都，还有一个叫什么交通大厦的，下面我对这些酒店做个最真实、准确地点评： 三晋国际——这是我认为最让太原市骄傲的酒店，我们衡量一个酒店的最直接的就是你能够得到什么服务，在这家酒店里，我感觉到了家一般的照顾，第一次来这里，感冒了，嘴里冷不丁说了一句，服务生就听到了，然后熬了一碗姜汤到我房间，当然也是免费的，很感动；洗澡时，一不小心摔倒了，副总经理、总监等等都慰问了我，其实这也不完全是酒店的错，但是从那以后，我发现每个房间浴室都放置了防滑垫和塑料拖鞋；有一次我把袜子之类的放在洗手间了，谁知道我回来后竟然发现服务员帮我免费清洗了，还把我不小心掰断的心爱的梳子还用胶给我粘好了，还留了言给我，真的很让我意外也有点不敢相信！对一个出差特别频繁，时间特别紧张的人来说，办理入住和退房就是一个最让人烦躁的时间，但是我算过了，三晋国际前台办理退房、入住的时间没有超过一分钟！！！在北京都很难有这样的待遇！其他的，比如前台接待、门厅服务之类的就不用说了，真的很好； 当然我也有建议：1、酒店的被子能否换厚一点的，冬天冷啊；2、一些房间的电话没有免提，不是很方便；3、外面的电话打不进来，可能是酒店为了安全考虑吧，但还是希望能够有外线拨入的功能。 龙城国际——不知道五星级是谁给的评价？！酒店一般，还不如华苑宾馆，无法容忍的是，前台接待服务态度太差了！唯一的优点是，早餐挺好吃。 华苑宾馆——06、07年都挺好的，今天偶尔又住了一下，发现时间长了，枕头、被子不是很干净，其他倒是挺好的，服务态度、环境都还不错，早餐有点单一。 黄河京都——地方太偏了！看起来挺好，住进去不咋地，无法容忍的是，也给大家提个醒，我退房的时间整整用了29分钟，快半个钟头了，我差点晕倒！结帐的服务员只顾打电话，不理我。 交通大厦——噩梦般的酒店，我再也不会住了！！隔音效果太差，还不幸地让我听到了隔壁小两口的闺房密语，哈哈，让我坐噩梦的是，半夜不知道什么单位来查房，从好多房间带走了好多女孩子，好怕怕地说……还有就是前台一个戴眼镜的，白白的女孩子，态度可真差啊，郁闷！ 太原还有好多酒店，可能我不会一一住到，但还是希望所有的酒店都能够像三晋国际一样，给山西人长脸！\tgold label: 1\tscore: -34.8111686706543\n",
      "\n"
     ]
    }
   ],
   "source": [
    "sim_fn = \"euc\"\n",
    "\n",
    "res = feature_sim.interpret(test_dataloader, sample_num=sample_num, sim_fn=sim_fn)\n",
    "\n",
    "print_result(test_data, train_ds, res, data_name='chnsenticorp')"
   ]
  },
  {
   "cell_type": "code",
   "execution_count": null,
   "metadata": {},
   "outputs": [],
   "source": []
  }
 ],
 "metadata": {
  "kernelspec": {
   "display_name": "Python 3 (ipykernel)",
   "language": "python",
   "name": "python3"
  },
  "language_info": {
   "codemirror_mode": {
    "name": "ipython",
    "version": 3
   },
   "file_extension": ".py",
   "mimetype": "text/x-python",
   "name": "python",
   "nbconvert_exporter": "python",
   "pygments_lexer": "ipython3",
   "version": "3.9.7-final"
  },
  "orig_nbformat": 2
 },
 "nbformat": 4,
 "nbformat_minor": 2
}
