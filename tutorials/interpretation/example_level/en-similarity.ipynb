{
 "cells": [
  {
   "cell_type": "markdown",
   "metadata": {},
   "source": [
    "# Load the Pretrained Model and the Dataset"
   ]
  },
  {
   "cell_type": "code",
   "execution_count": 1,
   "metadata": {},
   "outputs": [],
   "source": [
    "import sys\n",
    "\n",
    "sys.path.append(\"../..\")\n",
    "sys.path.append(\"../../../trustai/\")"
   ]
  },
  {
   "cell_type": "code",
   "execution_count": 2,
   "metadata": {},
   "outputs": [
    {
     "output_type": "stream",
     "name": "stderr",
     "text": [
      "\u001b[32m[2022-04-27 11:20:31,151] [    INFO]\u001b[0m - Already cached /home/zhangshuai/.paddlenlp/models/ernie-2.0-en/ernie_v2_eng_base.pdparams\u001b[0m\n",
      "W0427 11:20:31.153538 33689 device_context.cc:447] Please NOTE: device: 0, GPU Compute Capability: 7.0, Driver API Version: 11.4, Runtime API Version: 10.2\n",
      "W0427 11:20:31.158970 33689 device_context.cc:465] device: 0, cuDNN Version: 8.2.\n",
      "\u001b[32m[2022-04-27 11:20:36,152] [    INFO]\u001b[0m - Already cached /home/zhangshuai/.paddlenlp/models/ernie-2.0-en/vocab.txt\u001b[0m\n"
     ]
    }
   ],
   "source": [
    "import paddle\n",
    "import paddlenlp\n",
    "from paddlenlp.transformers import ErnieForSequenceClassification, ErnieTokenizer\n",
    "\n",
    "MODEL_NAME = 'ernie-2.0-en'\n",
    "\n",
    "model = ErnieForSequenceClassification.from_pretrained(MODEL_NAME, num_classes=2)\n",
    "tokenizer = ErnieTokenizer.from_pretrained(MODEL_NAME)"
   ]
  },
  {
   "cell_type": "code",
   "execution_count": 3,
   "metadata": {},
   "outputs": [],
   "source": [
    "from paddlenlp.datasets import load_dataset\n",
    "\n",
    "DATASET_NAME = 'qqp'\n",
    "train_ds, dev_ds, test_ds = load_dataset(\"glue\", name='qqp', splits=[\"train\", \"dev\", \"test\"])"
   ]
  },
  {
   "cell_type": "markdown",
   "metadata": {},
   "source": [
    "# Prepare the Model\n",
    "## Train the model"
   ]
  },
  {
   "cell_type": "code",
   "execution_count": null,
   "metadata": {},
   "outputs": [],
   "source": [
    "from assets.utils import training_model\n",
    "\n",
    "training_model(model, tokenizer, train_ds, dev_ds, save_dir=f'../../assets/{DATASET_NAME}-{MODEL_NAME}')"
   ]
  },
  {
   "cell_type": "markdown",
   "metadata": {},
   "source": [
    "## Or Load the trained model"
   ]
  },
  {
   "cell_type": "code",
   "execution_count": 4,
   "metadata": {},
   "outputs": [
    {
     "output_type": "stream",
     "name": "stdout",
     "text": [
      "--2022-04-27 11:20:38--  https://trustai.bj.bcebos.com/qqp-ernie-2.0-en.tar\n",
      "Resolving trustai.bj.bcebos.com (trustai.bj.bcebos.com)... 10.70.0.165\n",
      "Connecting to trustai.bj.bcebos.com (trustai.bj.bcebos.com)|10.70.0.165|:443... connected.\n",
      "HTTP request sent, awaiting response... 200 OK\n",
      "Length: 438200320 (418M) [application/x-tar]\n",
      "Saving to: ‘qqp-ernie-2.0-en.tar’\n",
      "\n",
      "100%[======================================>] 438,200,320  121MB/s   in 3.5s   \n",
      "\n",
      "2022-04-27 11:20:41 (120 MB/s) - ‘qqp-ernie-2.0-en.tar’ saved [438200320/438200320]\n",
      "\n",
      "qqp-ernie-2.0-en/\n",
      "qqp-ernie-2.0-en/tokenizer_config.json\n",
      "qqp-ernie-2.0-en/vocab.txt\n",
      "qqp-ernie-2.0-en/model_state.pdparams\n",
      "qqp-ernie-2.0-en/model_config.json\n"
     ]
    }
   ],
   "source": [
    "# Load the trained model.\n",
    "!wget --no-check-certificate -c https://trustai.bj.bcebos.com/qqp-ernie-2.0-en.tar\n",
    "!tar -xvf ./qqp-ernie-2.0-en.tar -C ../../assets/\n",
    "!rm ./qqp-ernie-2.0-en.tar\n",
    "\n",
    "state_dict = paddle.load(f'../../assets/{DATASET_NAME}-{MODEL_NAME}/model_state.pdparams')\n",
    "model.set_dict(state_dict)"
   ]
  },
  {
   "cell_type": "markdown",
   "metadata": {},
   "source": [
    "# See the prediciton results"
   ]
  },
  {
   "cell_type": "code",
   "execution_count": 5,
   "metadata": {},
   "outputs": [
    {
     "output_type": "stream",
     "name": "stdout",
     "text": [
      "Data: {'sentence1': 'What are the best novels in 2016?', 'sentence2': 'What are some of the best novels everyone should read?', 'labels': 0} \t Lable: negative\nData: {'sentence1': 'How can I get rid of stage fear?', 'sentence2': 'How do I get rid of my stage fear?', 'labels': 1} \t Lable: positive\nData: {'sentence1': 'Is it illegal to use iTunes music in a video?', 'sentence2': 'Can anyone get the music used in this video?', 'labels': 0} \t Lable: negative\n"
     ]
    }
   ],
   "source": [
    "from assets.utils import predict\n",
    "\n",
    "data = [\n",
    "    {'sentence1': 'What are the best novels in 2016?', 'sentence2': 'What are some of the best novels everyone should read?', 'labels': 0},\n",
    "    {'sentence1': 'How can I get rid of stage fear?', 'sentence2': 'How do I get rid of my stage fear?', 'labels': 1},\n",
    "    {'sentence1': 'Is it illegal to use iTunes music in a video?', 'sentence2': 'Can anyone get the music used in this video?', 'labels': 0},\n",
    "]\n",
    "\n",
    "label_map = {0: 'negative', 1: 'positive'}\n",
    "\n",
    "batch_size = 32\n",
    "\n",
    "results = predict(\n",
    "    model, data, tokenizer, label_map, batch_size=batch_size)\n",
    "\n",
    "for idx, text in enumerate(data):\n",
    "    print('Data: {} \\t Lable: {}'.format(text, results[idx]))"
   ]
  },
  {
   "cell_type": "markdown",
   "metadata": {},
   "source": [
    "# Prepare for Interpretations"
   ]
  },
  {
   "cell_type": "code",
   "execution_count": 6,
   "metadata": {},
   "outputs": [],
   "source": [
    "from functools import partial\n",
    "\n",
    "from paddlenlp.data import Stack, Tuple, Pad\n",
    "\n",
    "from assets.utils import create_dataloader, convert_example\n",
    "\n",
    "DATASET_NAME = 'qqp'\n",
    "\n",
    "batch_size = 32\n",
    "max_seq_length = 128\n",
    "learning_rate = 5e-5 \n",
    "epochs = 3\n",
    "warmup_proportion = 0.1\n",
    "weight_decay = 0.01\n",
    "\n",
    "trans_func = partial(\n",
    "        convert_example,\n",
    "        tokenizer=tokenizer,\n",
    "        max_seq_length=max_seq_length,\n",
    "        is_test=True,\n",
    "    )\n",
    "batchify_fn = lambda samples, fn=Tuple(\n",
    "    Pad(axis=0, pad_val=tokenizer.pad_token_id),  # input\n",
    "    Pad(axis=0, pad_val=tokenizer.pad_token_type_id),  # segment\n",
    "): [data for data in fn(samples)]\n",
    "train_data_loader = create_dataloader(\n",
    "    train_ds,\n",
    "    mode='train',\n",
    "    batch_size=batch_size,\n",
    "    batchify_fn=batchify_fn,\n",
    "    trans_fn=trans_func,\n",
    "    shuffle=False)"
   ]
  },
  {
   "cell_type": "markdown",
   "metadata": {},
   "source": [
    "# Rrepresenter Pointer Interpreter"
   ]
  },
  {
   "cell_type": "code",
   "execution_count": 7,
   "metadata": {
    "tags": []
   },
   "outputs": [
    {
     "output_type": "stream",
     "name": "stdout",
     "text": [
      "Extracting feature for dataloader, it will take some time...\n",
      "Training representer point model, it will take several minutes...\n",
      "L1 difference between ground truth prediction and prediction by representer theorem decomposition\n",
      "[0.00103879]\n",
      "pearson correlation between ground truth  prediction and prediciton by representer theorem\n",
      "0.9999959119461196\n"
     ]
    }
   ],
   "source": [
    "from interpretation.example_level.method.representer_point import RepresenterPointModel\n",
    "\n",
    "# classifier_layer_name is the layer name of the last output layer\n",
    "representer_model = RepresenterPointModel(model, train_data_loader, classifier_layer_name='classifier')"
   ]
  },
  {
   "cell_type": "code",
   "execution_count": 12,
   "metadata": {},
   "outputs": [
    {
     "output_type": "stream",
     "name": "stdout",
     "text": [
      "Extracting feature for dataloader, it will take some time...\ntest data\ntext: What are the best novels in 2016?sepsepWhat are some of the best novels everyone should read?\tpredict label: 0\npos examples\ntext: How do I sell domains?sepsepWhat's the best way to sell a domain?\tgold label: 0\ntext: How do I make chocolate brownies?sepsepWhat's the best chocolate brownie recipe?\tgold label: 0\ntext: How do I lose weight faster?sepsepWhat are the best ways to lose weight?\tgold label: 0\nneg examples\ntext: What are some query languages?sepsepWhat is query language?\tgold label: 1\ntext: What should I do if girl is sending mixed signals?sepsepWhy do girls give mixed signals?\tgold label: 0\ntext: Can we time travel anyhow?sepsepWhy can't we time travel?\tgold label: 0\n\ntest data\ntext: How can I get rid of stage fear?sepsepHow do I get rid of my stage fear?\tpredict label: 1\npos examples\ntext: Is this correct to introduce 2000 rupee note suddenly in India with ban of 500 and 1000 rupees notes?sepsepWhat are the benefits of ban on 500 and 1000 rupees note?\tgold label: 0\ntext: How can I log into Facebook without putting in a password?sepsepHow can I delete an old Facebook account that I forgot it's password?\tgold label: 1\ntext: Why does 500 and 1000 Rs notes banned by GOI and new notes of 500 and 2000 are issued?sepsepWhat do you think of the decision by the Indian Government to replace 1000 notes with 2000 notes?\tgold label: 1\nneg examples\ntext: Where can I learn UX/UI?sepsepWhat is the best way to learn UI/UX?\tgold label: 1\ntext: What is the wisest decision you have ever made in your life and what was its outcome?sepsepWhat has been the best decision you've made in your life?\tgold label: 0\ntext: How do I learn theories?sepsepWhat is the best way to learn theory?\tgold label: 0\n\ntest data\ntext: Is it illegal to use iTunes music in a video?sepsepCan anyone get the music used in this video?\tpredict label: 0\npos examples\ntext: How do I sell domains?sepsepWhat's the best way to sell a domain?\tgold label: 0\ntext: How do I make chocolate brownies?sepsepWhat's the best chocolate brownie recipe?\tgold label: 0\ntext: How do I lose weight faster?sepsepWhat are the best ways to lose weight?\tgold label: 0\nneg examples\ntext: What are some query languages?sepsepWhat is query language?\tgold label: 1\ntext: What should I do if girl is sending mixed signals?sepsepWhy do girls give mixed signals?\tgold label: 0\ntext: Can we time travel anyhow?sepsepWhy can't we time travel?\tgold label: 0\n\n"
     ]
    }
   ],
   "source": [
    "from assets.utils import create_dataloader_from_scratch\n",
    "\n",
    "test_data = [\n",
    "    {'sentence1': 'What are the best novels in 2016?', 'sentence2': 'What are some of the best novels everyone should read?', 'labels': 0},\n",
    "    {'sentence1': 'How can I get rid of stage fear?', 'sentence2': 'How do I get rid of my stage fear?', 'labels': 1},\n",
    "    {'sentence1': 'Is it illegal to use iTunes music in a video?', 'sentence2': 'Can anyone get the music used in this video?', 'labels': 0},\n",
    "]\n",
    "\n",
    "# process text to model input\n",
    "test_dataloader = create_dataloader_from_scratch(test_data, tokenizer)\n",
    "\n",
    "predict_labels, pos_examples, neg_examples = representer_model.interpret(test_dataloader)\n",
    "\n",
    "for i in range(len(test_data)):\n",
    "    print('test data')\n",
    "    print(f\"text: {test_data[i]['sentence1']}sepsep{test_data[i]['sentence2']}\\tpredict label: {predict_labels[i]}\")\n",
    "    print('pos examples')\n",
    "    for example in pos_examples[i]:\n",
    "        print(f\"text: {train_ds.data[example]['sentence1']}sepsep{train_ds.data[example]['sentence2']}\\tgold label: {train_ds.data[example]['labels']}\")\n",
    "    print('neg examples')\n",
    "    for example in neg_examples[i]:\n",
    "        print(f\"text: {train_ds.data[example]['sentence1']}sepsep{train_ds.data[example]['sentence2']}\\tgold label: {train_ds.data[example]['labels']}\")\n",
    "    print()"
   ]
  },
  {
   "cell_type": "code",
   "execution_count": null,
   "metadata": {},
   "outputs": [],
   "source": []
  }
 ],
 "metadata": {
  "kernelspec": {
   "display_name": "Python 3 (ipykernel)",
   "language": "python",
   "name": "python3"
  },
  "language_info": {
   "codemirror_mode": {
    "name": "ipython",
    "version": 3
   },
   "file_extension": ".py",
   "mimetype": "text/x-python",
   "name": "python",
   "nbconvert_exporter": "python",
   "pygments_lexer": "ipython3",
   "version": "3.9.7-final"
  },
  "orig_nbformat": 2
 },
 "nbformat": 4,
 "nbformat_minor": 2
}