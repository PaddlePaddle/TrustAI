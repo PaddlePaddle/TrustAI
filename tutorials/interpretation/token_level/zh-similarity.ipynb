{
 "cells": [
  {
   "cell_type": "code",
   "execution_count": 1,
   "metadata": {},
   "outputs": [],
   "source": [
    "import sys\n",
    "\n",
    "sys.path.insert(0, \"../..\")\n",
    "sys.path.insert(0, \"../../../\")"
   ]
  },
  {
   "cell_type": "markdown",
   "metadata": {},
   "source": [
    "# Load the Pretrained Model and the dataset"
   ]
  },
  {
   "cell_type": "code",
   "execution_count": 2,
   "metadata": {},
   "outputs": [
    {
     "name": "stderr",
     "output_type": "stream",
     "text": [
      "\u001b[32m[2022-04-25 16:26:44,563] [    INFO]\u001b[0m - Already cached /home/zhangshuai/.paddlenlp/models/ernie-1.0/ernie_v1_chn_base.pdparams\u001b[0m\n",
      "W0425 16:26:44.565753 14179 device_context.cc:447] Please NOTE: device: 0, GPU Compute Capability: 7.0, Driver API Version: 11.4, Runtime API Version: 10.2\n",
      "W0425 16:26:44.571143 14179 device_context.cc:465] device: 0, cuDNN Version: 8.2.\n",
      "\u001b[32m[2022-04-25 16:26:49,199] [    INFO]\u001b[0m - Already cached /home/zhangshuai/.paddlenlp/models/ernie-1.0/vocab.txt\u001b[0m\n"
     ]
    }
   ],
   "source": [
    "import numpy as np\n",
    "import paddle\n",
    "import paddlenlp\n",
    "from paddlenlp.transformers import ErnieForSequenceClassification, ErnieTokenizer\n",
    "\n",
    "MODEL_NAME = \"ernie-1.0\"\n",
    "\n",
    "# init model and tokenizer\n",
    "model = ErnieForSequenceClassification.from_pretrained(MODEL_NAME, num_classes=2)\n",
    "tokenizer = ErnieTokenizer.from_pretrained(MODEL_NAME)"
   ]
  },
  {
   "cell_type": "code",
   "execution_count": 3,
   "metadata": {},
   "outputs": [],
   "source": [
    "from paddlenlp.datasets import load_dataset\n",
    "\n",
    "# load dataset\n",
    "DATASET_NAME = 'lcqmc'\n",
    "train_ds, dev_ds, test_ds = load_dataset(DATASET_NAME, splits=[\"train\", \"dev\", \"test\"])"
   ]
  },
  {
   "cell_type": "markdown",
   "metadata": {},
   "source": [
    "# Prepare the Model\n",
    "\n",
    "## Train the model"
   ]
  },
  {
   "cell_type": "code",
   "execution_count": null,
   "metadata": {},
   "outputs": [],
   "source": [
    "# training the model and save to save_dir\n",
    "# only needs to run once.\n",
    "\n",
    "from assets.utils import training_model\n",
    "\n",
    "training_model(model, tokenizer, train_ds, dev_ds, save_dir=f'../../assets/{DATASET_NAME}-{MODEL_NAME}')"
   ]
  },
  {
   "cell_type": "markdown",
   "metadata": {},
   "source": [
    "## Or Load the trained model\n"
   ]
  },
  {
   "cell_type": "code",
   "execution_count": 4,
   "metadata": {},
   "outputs": [
    {
     "name": "stdout",
     "output_type": "stream",
     "text": [
      "--2022-04-25 16:26:49--  https://trustai.bj.bcebos.com/lcqmc-ernie-1.0.tar\n",
      "Resolving trustai.bj.bcebos.com (trustai.bj.bcebos.com)... 10.70.0.165\n",
      "Connecting to trustai.bj.bcebos.com (trustai.bj.bcebos.com)|10.70.0.165|:443... connected.\n",
      "HTTP request sent, awaiting response... 200 OK\n",
      "Length: 399595520 (381M) [application/x-tar]\n",
      "Saving to: ‘lcqmc-ernie-1.0.tar’\n",
      "\n",
      "100%[======================================>] 399,595,520  120MB/s   in 3.2s   \n",
      "\n",
      "2022-04-25 16:26:53 (120 MB/s) - ‘lcqmc-ernie-1.0.tar’ saved [399595520/399595520]\n",
      "\n",
      "lcqmc-ernie-1.0/\n",
      "lcqmc-ernie-1.0/tokenizer_config.json\n",
      "lcqmc-ernie-1.0/vocab.txt\n",
      "lcqmc-ernie-1.0/model_state.pdparams\n",
      "lcqmc-ernie-1.0/model_config.json\n"
     ]
    }
   ],
   "source": [
    "# Load the trained model.\n",
    "!wget --no-check-certificate -c https://trustai.bj.bcebos.com/lcqmc-ernie-1.0.tar\n",
    "!tar -xvf ./lcqmc-ernie-1.0.tar -C ../../assets/\n",
    "!rm ./lcqmc-ernie-1.0.tar\n",
    "\n",
    "state_dict = paddle.load(f'../../assets/{DATASET_NAME}-{MODEL_NAME}/model_state.pdparams')\n",
    "model.set_dict(state_dict)"
   ]
  },
  {
   "cell_type": "markdown",
   "metadata": {},
   "source": [
    "# See the prediction results"
   ]
  },
  {
   "cell_type": "code",
   "execution_count": 5,
   "metadata": {},
   "outputs": [
    {
     "name": "stdout",
     "output_type": "stream",
     "text": [
      "Data: {'query': '手机运行内存能扩展吗，怎么扩？', 'title': '手机运行内存能扩展吗？如果有怎么扩展？', 'label': 1} \t Label: positive\n",
      "Data: {'query': '宝宝起名五行缺什么？', 'title': '测五行缺什么。起名？', 'label': 1} \t Label: positive\n",
      "Data: {'query': '真空压缩袋怎么样？', 'title': '真空压缩袋怎么卖？', 'label': 0} \t Label: negative\n"
     ]
    }
   ],
   "source": [
    "from assets.utils import predict\n",
    "\n",
    "data = [\n",
    "    {\n",
    "        \"query\": '手机运行内存能扩展吗，怎么扩？', \"title\": '手机运行内存能扩展吗？如果有怎么扩展？', \"label\": 1\n",
    "    },\n",
    "    {\n",
    "        \"query\": '宝宝起名五行缺什么？', \"title\": '测五行缺什么。起名？', \"label\": 1\n",
    "    },\n",
    "    {\n",
    "        \"query\": '真空压缩袋怎么样？', \"title\": '真空压缩袋怎么卖？', \"label\": 0\n",
    "    },\n",
    "]\n",
    "\n",
    "label_map = {0: 'negative', 1: 'positive'}\n",
    "true_labels = [1, 1, 0]\n",
    "batch_size = 32\n",
    "results = predict(model, data, tokenizer, label_map, batch_size=batch_size)\n",
    "\n",
    "for idx, text in enumerate(data):\n",
    "    print('Data: {} \\t Label: {}'.format(text, results[idx]))"
   ]
  },
  {
   "cell_type": "markdown",
   "metadata": {},
   "source": [
    "# Prepare for Interpretations\n"
   ]
  },
  {
   "cell_type": "code",
   "execution_count": 6,
   "metadata": {},
   "outputs": [],
   "source": [
    "from paddlenlp.data import Stack, Tuple, Pad\n",
    "\n",
    "from assets.utils import convert_example\n",
    "from trustai.interpretation.token_level.data_processor import VisualizationTextRecord, visualize_text\n",
    "from trustai.interpretation.token_level.common import get_rationales_and_non_ratioanles\n",
    "\n",
    "def preprocess_fn(data):\n",
    "    examples = []\n",
    "\n",
    "    if not isinstance(data, list):\n",
    "        data = [data]\n",
    "\n",
    "    for text in data:\n",
    "        input_ids, segment_ids = convert_example(text, tokenizer, max_seq_length=128, is_test=True)\n",
    "        examples.append((input_ids, segment_ids))\n",
    "\n",
    "    batchify_fn = lambda samples, fn=Tuple(\n",
    "        Pad(axis=0, pad_val=tokenizer.pad_token_id),  # input id\n",
    "        Pad(axis=0, pad_val=tokenizer.pad_token_id),  # segment id\n",
    "    ): fn(samples)\n",
    "\n",
    "    input_ids, segment_ids = batchify_fn(examples)\n",
    "    return paddle.to_tensor(input_ids, stop_gradient=False), paddle.to_tensor(segment_ids, stop_gradient=False)"
   ]
  },
  {
   "cell_type": "code",
   "execution_count": 7,
   "metadata": {},
   "outputs": [
    {
     "name": "stderr",
     "output_type": "stream",
     "text": [
      "Building prefix dict from the default dictionary ...\n",
      "Loading model from cache /tmp/jieba.cache\n",
      "Dumping model to file cache /tmp/jieba.cache\n",
      "Dump cache file failed.\n",
      "Traceback (most recent call last):\n",
      "  File \"/home/zhangshuai/miniconda3/envs/zs_py39/lib/python3.9/site-packages/jieba/__init__.py\", line 154, in initialize\n",
      "    _replace_file(fpath, cache_file)\n",
      "PermissionError: [Errno 1] Operation not permitted: '/tmp/tmp_stck7rw' -> '/tmp/jieba.cache'\n",
      "Loading model cost 0.806 seconds.\n",
      "Prefix dict has been built successfully.\n",
      "\n",
      "word_offset_map:\n",
      "[CLS] 0 5\n",
      "手机 5 7\n",
      "运行 7 9\n",
      "内存 9 11\n",
      "能 11 12\n",
      "扩展 12 14\n",
      "吗 14 15\n",
      "， 15 16\n",
      "怎么 16 18\n",
      "扩 18 19\n",
      "？ 19 20\n",
      "[SEP] 20 25\n",
      "手机 25 27\n",
      "运行 27 29\n",
      "内存 29 31\n",
      "能 31 32\n",
      "扩展 32 34\n",
      "吗 34 35\n",
      "？ 35 36\n",
      "如果 36 38\n",
      "有 38 39\n",
      "怎么 39 41\n",
      "扩展 41 43\n",
      "？ 43 44\n",
      "[SEP] 44 49\n",
      "\n",
      "subword_offset_map:\n",
      "[ 0 1\n",
      "cl 1 3\n",
      "##s 3 4\n",
      "[UNK] 4 5\n",
      "手 5 6\n",
      "机 6 7\n",
      "运 7 8\n",
      "行 8 9\n",
      "内 9 10\n",
      "存 10 11\n",
      "能 11 12\n",
      "扩 12 13\n",
      "展 13 14\n",
      "吗 14 15\n",
      "， 15 16\n",
      "怎 16 17\n",
      "么 17 18\n",
      "扩 18 19\n",
      "？ 19 20\n",
      "[ 20 21\n",
      "sep 21 24\n",
      "[UNK] 24 25\n",
      "手 25 26\n",
      "机 26 27\n",
      "运 27 28\n",
      "行 28 29\n",
      "内 29 30\n",
      "存 30 31\n",
      "能 31 32\n",
      "扩 32 33\n",
      "展 33 34\n",
      "吗 34 35\n",
      "？ 35 36\n",
      "如 36 37\n",
      "果 37 38\n",
      "有 38 39\n",
      "怎 39 40\n",
      "么 40 41\n",
      "扩 41 42\n",
      "展 42 43\n",
      "？ 43 44\n",
      "[ 44 45\n",
      "sep 45 48\n",
      "[UNK] 48 49\n"
     ]
    }
   ],
   "source": [
    "import jieba\n",
    "\n",
    "from trustai.interpretation import get_word_offset\n",
    "\n",
    "contexts = []\n",
    "batch_words = []\n",
    "for example in data:\n",
    "    contexts.append(\"[CLS]\" + example['query'] + \"[SEP]\" + example['title'] + \"[SEP]\")\n",
    "    batch_words.append([\"[CLS]\"] + list(jieba.cut(example['query'])) + [\"[SEP]\"] + list(jieba.cut(example['title'])) + [\"[SEP]\"] )\n",
    "word_offset_maps = []\n",
    "subword_offset_maps = []\n",
    "for i in range(len(contexts)):\n",
    "    word_offset_maps.append(get_word_offset(contexts[i], batch_words[i]))\n",
    "    subword_offset_maps.append(tokenizer.get_offset_mapping(contexts[i]))\n",
    "\n",
    "print(\"\\nword_offset_map:\")\n",
    "for word, (offset_start, offset_end) in zip(batch_words[0], word_offset_maps[0]):\n",
    "    print(word, offset_start, offset_end)\n",
    "print(\"\\nsubword_offset_map:\")\n",
    "for subword, (offset_start, offset_end) in zip(tokenizer._tokenize(contexts[0]), subword_offset_maps[0]):\n",
    "    print(subword, offset_start, offset_end)"
   ]
  },
  {
   "cell_type": "markdown",
   "metadata": {},
   "source": [
    "# IG Interpreter\n"
   ]
  },
  {
   "cell_type": "code",
   "execution_count": 8,
   "metadata": {},
   "outputs": [
    {
     "data": {
      "text/html": [
       "<table width: 100%, align : center><tr><th>Golden Label</th><th>Predicted Label (Prob)</th><th>Important scores</th><tr><td align=\"center\"><text style=\"padding-right:2em\"><b>1</b></text></td><td align=\"center\"><text style=\"padding-right:2em\"><b>1 (1.00)</b></text></td><td><mark style=\"background-color: hsl(120, 75%, 95%); opacity:1.0;                         line-height:1.75\"><font color=\"black\"> [CLS]                        </font></mark><mark style=\"background-color: hsl(120, 75%, 70%); opacity:1.0;                         line-height:1.75\"><font color=\"black\"> 手机                        </font></mark><mark style=\"background-color: hsl(120, 75%, 83%); opacity:1.0;                         line-height:1.75\"><font color=\"black\"> 运行                        </font></mark><mark style=\"background-color: hsl(120, 75%, 82%); opacity:1.0;                         line-height:1.75\"><font color=\"black\"> 内存                        </font></mark><mark style=\"background-color: hsl(120, 75%, 90%); opacity:1.0;                         line-height:1.75\"><font color=\"black\"> 能                        </font></mark><mark style=\"background-color: hsl(120, 75%, 91%); opacity:1.0;                         line-height:1.75\"><font color=\"black\"> 扩展                        </font></mark><mark style=\"background-color: hsl(120, 75%, 93%); opacity:1.0;                         line-height:1.75\"><font color=\"black\"> 吗                        </font></mark><mark style=\"background-color: hsl(120, 75%, 95%); opacity:1.0;                         line-height:1.75\"><font color=\"black\"> ，                        </font></mark><mark style=\"background-color: hsl(120, 75%, 95%); opacity:1.0;                         line-height:1.75\"><font color=\"black\"> 怎么                        </font></mark><mark style=\"background-color: hsl(120, 75%, 92%); opacity:1.0;                         line-height:1.75\"><font color=\"black\"> 扩                        </font></mark><mark style=\"background-color: hsl(120, 75%, 97%); opacity:1.0;                         line-height:1.75\"><font color=\"black\"> ？                        </font></mark><mark style=\"background-color: hsl(120, 75%, 98%); opacity:1.0;                         line-height:1.75\"><font color=\"black\"> [SEP]                        </font></mark><mark style=\"background-color: hsl(120, 75%, 87%); opacity:1.0;                         line-height:1.75\"><font color=\"black\"> 手机                        </font></mark><mark style=\"background-color: hsl(120, 75%, 85%); opacity:1.0;                         line-height:1.75\"><font color=\"black\"> 运行                        </font></mark><mark style=\"background-color: hsl(120, 75%, 89%); opacity:1.0;                         line-height:1.75\"><font color=\"black\"> 内存                        </font></mark><mark style=\"background-color: hsl(120, 75%, 93%); opacity:1.0;                         line-height:1.75\"><font color=\"black\"> 能                        </font></mark><mark style=\"background-color: hsl(120, 75%, 94%); opacity:1.0;                         line-height:1.75\"><font color=\"black\"> 扩展                        </font></mark><mark style=\"background-color: hsl(120, 75%, 96%); opacity:1.0;                         line-height:1.75\"><font color=\"black\"> 吗                        </font></mark><mark style=\"background-color: hsl(120, 75%, 98%); opacity:1.0;                         line-height:1.75\"><font color=\"black\"> ？                        </font></mark><mark style=\"background-color: hsl(120, 75%, 93%); opacity:1.0;                         line-height:1.75\"><font color=\"black\"> 如果                        </font></mark><mark style=\"background-color: hsl(120, 75%, 95%); opacity:1.0;                         line-height:1.75\"><font color=\"black\"> 有                        </font></mark><mark style=\"background-color: hsl(0, 75%, 100%); opacity:1.0;                         line-height:1.75\"><font color=\"black\"> 怎么                        </font></mark><mark style=\"background-color: hsl(120, 75%, 98%); opacity:1.0;                         line-height:1.75\"><font color=\"black\"> 扩展                        </font></mark><mark style=\"background-color: hsl(120, 75%, 100%); opacity:1.0;                         line-height:1.75\"><font color=\"black\"> ？                        </font></mark><mark style=\"background-color: hsl(120, 75%, 97%); opacity:1.0;                         line-height:1.75\"><font color=\"black\"> [SEP]                        </font></mark></td><tr><tr><td align=\"center\"><text style=\"padding-right:2em\"><b>1</b></text></td><td align=\"center\"><text style=\"padding-right:2em\"><b>1 (0.91)</b></text></td><td><mark style=\"background-color: hsl(120, 75%, 93%); opacity:1.0;                         line-height:1.75\"><font color=\"black\"> [CLS]                        </font></mark><mark style=\"background-color: hsl(120, 75%, 70%); opacity:1.0;                         line-height:1.75\"><font color=\"black\"> 宝宝                        </font></mark><mark style=\"background-color: hsl(120, 75%, 71%); opacity:1.0;                         line-height:1.75\"><font color=\"black\"> 起名                        </font></mark><mark style=\"background-color: hsl(120, 75%, 78%); opacity:1.0;                         line-height:1.75\"><font color=\"black\"> 五行                        </font></mark><mark style=\"background-color: hsl(120, 75%, 87%); opacity:1.0;                         line-height:1.75\"><font color=\"black\"> 缺什么                        </font></mark><mark style=\"background-color: hsl(0, 75%, 100%); opacity:1.0;                         line-height:1.75\"><font color=\"black\"> ？                        </font></mark><mark style=\"background-color: hsl(120, 75%, 98%); opacity:1.0;                         line-height:1.75\"><font color=\"black\"> [SEP]                        </font></mark><mark style=\"background-color: hsl(120, 75%, 85%); opacity:1.0;                         line-height:1.75\"><font color=\"black\"> 测                        </font></mark><mark style=\"background-color: hsl(120, 75%, 88%); opacity:1.0;                         line-height:1.75\"><font color=\"black\"> 五行                        </font></mark><mark style=\"background-color: hsl(120, 75%, 84%); opacity:1.0;                         line-height:1.75\"><font color=\"black\"> 缺什么                        </font></mark><mark style=\"background-color: hsl(120, 75%, 94%); opacity:1.0;                         line-height:1.75\"><font color=\"black\"> 。                        </font></mark><mark style=\"background-color: hsl(120, 75%, 79%); opacity:1.0;                         line-height:1.75\"><font color=\"black\"> 起名                        </font></mark><mark style=\"background-color: hsl(120, 75%, 100%); opacity:1.0;                         line-height:1.75\"><font color=\"black\"> ？                        </font></mark><mark style=\"background-color: hsl(120, 75%, 100%); opacity:1.0;                         line-height:1.75\"><font color=\"black\"> [SEP]                        </font></mark></td><tr><tr><td align=\"center\"><text style=\"padding-right:2em\"><b>0</b></text></td><td align=\"center\"><text style=\"padding-right:2em\"><b>0 (0.98)</b></text></td><td><mark style=\"background-color: hsl(120, 75%, 89%); opacity:1.0;                         line-height:1.75\"><font color=\"black\"> [CLS]                        </font></mark><mark style=\"background-color: hsl(120, 75%, 100%); opacity:1.0;                         line-height:1.75\"><font color=\"black\"> 真空                        </font></mark><mark style=\"background-color: hsl(120, 75%, 95%); opacity:1.0;                         line-height:1.75\"><font color=\"black\"> 压缩                        </font></mark><mark style=\"background-color: hsl(120, 75%, 91%); opacity:1.0;                         line-height:1.75\"><font color=\"black\"> 袋                        </font></mark><mark style=\"background-color: hsl(120, 75%, 77%); opacity:1.0;                         line-height:1.75\"><font color=\"black\"> 怎么样                        </font></mark><mark style=\"background-color: hsl(120, 75%, 87%); opacity:1.0;                         line-height:1.75\"><font color=\"black\"> ？                        </font></mark><mark style=\"background-color: hsl(120, 75%, 87%); opacity:1.0;                         line-height:1.75\"><font color=\"black\"> [SEP]                        </font></mark><mark style=\"background-color: hsl(120, 75%, 98%); opacity:1.0;                         line-height:1.75\"><font color=\"black\"> 真空                        </font></mark><mark style=\"background-color: hsl(0, 75%, 100%); opacity:1.0;                         line-height:1.75\"><font color=\"black\"> 压缩                        </font></mark><mark style=\"background-color: hsl(120, 75%, 90%); opacity:1.0;                         line-height:1.75\"><font color=\"black\"> 袋                        </font></mark><mark style=\"background-color: hsl(120, 75%, 82%); opacity:1.0;                         line-height:1.75\"><font color=\"black\"> 怎么                        </font></mark><mark style=\"background-color: hsl(120, 75%, 70%); opacity:1.0;                         line-height:1.75\"><font color=\"black\"> 卖                        </font></mark><mark style=\"background-color: hsl(120, 75%, 84%); opacity:1.0;                         line-height:1.75\"><font color=\"black\"> ？                        </font></mark><mark style=\"background-color: hsl(120, 75%, 85%); opacity:1.0;                         line-height:1.75\"><font color=\"black\"> [SEP]                        </font></mark></td><tr></table>"
      ],
      "text/plain": [
       "<IPython.core.display.HTML object>"
      ]
     },
     "metadata": {},
     "output_type": "display_data"
    }
   ],
   "source": [
    "from trustai.interpretation.token_level import IntGradInterpreter\n",
    "ig = IntGradInterpreter(model, device=\"gpu\")\n",
    "result = ig(preprocess_fn(data), steps=100)\n",
    "\n",
    "align_res = ig.alignment(result, contexts, batch_words, word_offset_maps, subword_offset_maps, special_tokens=[\"[CLS]\", '[SEP]'])\n",
    "\n",
    "# process for vbisualize\n",
    "recs = []\n",
    "for i in range(len(align_res)):\n",
    "    recs.append(VisualizationTextRecord(align_res[i],true_label=true_labels[i]))\n",
    "html = visualize_text(recs)\n"
   ]
  },
  {
   "cell_type": "markdown",
   "metadata": {},
   "source": [
    "## print interpret result"
   ]
  },
  {
   "cell_type": "code",
   "execution_count": 9,
   "metadata": {},
   "outputs": [
    {
     "name": "stdout",
     "output_type": "stream",
     "text": [
      "interpret result of first example:\n",
      "attributions : [ 9.8212082e-03  1.3883565e-01  1.3197863e-01  7.5971864e-02\n",
      "  6.5383144e-02  7.6201648e-02  7.2356835e-02  5.9253935e-02\n",
      "  3.6213800e-02  1.3086946e-02  3.0525709e-02  9.0835625e-03\n",
      "  1.0339208e-02  2.9540770e-03  4.7282107e-02 -6.3666585e-03\n",
      " -2.5567221e-02  6.7195721e-02  3.3217926e-02  6.7754209e-02\n",
      "  5.0005946e-02  2.9551987e-02  4.5666732e-02  2.9116267e-02\n",
      "  2.4607677e-02  1.6491744e-04 -3.8130442e-05 -1.6418841e-02\n",
      "  2.5379380e-02  3.3628747e-03  1.4054486e-02 -2.9295105e-02\n",
      " -1.7831795e-02 -5.8200909e-05 -2.1824688e-02 -4.4304539e-02\n",
      " -1.2704406e-02]\n",
      "pred_label : 1\n",
      "pred_proba : [0.00307661 0.9969234 ]\n",
      "error_percent : -2.2277641\n",
      "alignment result of first example:\n",
      "words : ['[CLS]', '手机', '运行', '内存', '能', '扩展', '吗', '，', '怎么', '扩', '？', '[SEP]', '手机', '运行', '内存', '能', '扩展', '吗', '？', '如果', '有', '怎么', '扩展', '？', '[SEP]']\n",
      "word_attributions : [0.009821208193898201, 0.27081428468227386, 0.1413550078868866, 0.14855848252773285, 0.059253934770822525, 0.04930074606090784, 0.030525708571076393, 0.009083562530577183, 0.013293284922838211, 0.047282107174396515, -0.006366658490151167, -0.025567220523953438, 0.10041364654898643, 0.11776015534996986, 0.07521871849894524, 0.02911626733839512, 0.02477259445004165, -3.8130441680550575e-05, -0.01641884073615074, 0.02874225494451821, 0.014054485596716404, -0.047126900404691696, -0.021882888628169894, -0.044304538518190384, -0.012704405933618546]\n",
      "pred_label : 1\n",
      "pred_proba : [0.00307661 0.9969234 ]\n",
      "rationale : (1, 2, 3, 12, 13)\n",
      "non_rationale : (4, 5, 6, 7, 8, 9, 10, 14, 15, 16, 17, 18, 19, 20, 21, 22, 23)\n",
      "rationale_tokens : ('手机', '运行', '内存', '手机', '运行')\n",
      "non_rationale_tokens : ('能', '扩展', '吗', '，', '怎么', '扩', '？', '内存', '能', '扩展', '吗', '？', '如果', '有', '怎么', '扩展', '？')\n",
      "rationale_pred_proba : None\n",
      "non_rationale_pred_proba : None\n"
     ]
    }
   ],
   "source": [
    "print(\"interpret result of first example:\")\n",
    "for field in result[0].__dataclass_fields__:\n",
    "    print(field, \":\", getattr(result[0], field))\n",
    "print(\"alignment result of first example:\")\n",
    "for field in align_res[0].__dataclass_fields__:\n",
    "    print(field, \":\", getattr(align_res[0], field))\n"
   ]
  },
  {
   "cell_type": "markdown",
   "metadata": {},
   "source": [
    "# LIME Interpreter"
   ]
  },
  {
   "cell_type": "code",
   "execution_count": 10,
   "metadata": {},
   "outputs": [
    {
     "data": {
      "text/html": [
       "<table width: 100%, align : center><tr><th>Golden Label</th><th>Predicted Label (Prob)</th><th>Important scores</th><tr><td align=\"center\"><text style=\"padding-right:2em\"><b>1</b></text></td><td align=\"center\"><text style=\"padding-right:2em\"><b>1 (1.00)</b></text></td><td><mark style=\"background-color: hsl(120, 75%, 99%); opacity:1.0;                         line-height:1.75\"><font color=\"black\"> [CLS]                        </font></mark><mark style=\"background-color: hsl(120, 75%, 77%); opacity:1.0;                         line-height:1.75\"><font color=\"black\"> 手机                        </font></mark><mark style=\"background-color: hsl(120, 75%, 78%); opacity:1.0;                         line-height:1.75\"><font color=\"black\"> 运行                        </font></mark><mark style=\"background-color: hsl(120, 75%, 75%); opacity:1.0;                         line-height:1.75\"><font color=\"black\"> 内存                        </font></mark><mark style=\"background-color: hsl(120, 75%, 79%); opacity:1.0;                         line-height:1.75\"><font color=\"black\"> 能                        </font></mark><mark style=\"background-color: hsl(120, 75%, 77%); opacity:1.0;                         line-height:1.75\"><font color=\"black\"> 扩展                        </font></mark><mark style=\"background-color: hsl(120, 75%, 78%); opacity:1.0;                         line-height:1.75\"><font color=\"black\"> 吗                        </font></mark><mark style=\"background-color: hsl(120, 75%, 79%); opacity:1.0;                         line-height:1.75\"><font color=\"black\"> ，                        </font></mark><mark style=\"background-color: hsl(120, 75%, 73%); opacity:1.0;                         line-height:1.75\"><font color=\"black\"> 怎么                        </font></mark><mark style=\"background-color: hsl(120, 75%, 77%); opacity:1.0;                         line-height:1.75\"><font color=\"black\"> 扩                        </font></mark><mark style=\"background-color: hsl(120, 75%, 82%); opacity:1.0;                         line-height:1.75\"><font color=\"black\"> ？                        </font></mark><mark style=\"background-color: hsl(120, 75%, 97%); opacity:1.0;                         line-height:1.75\"><font color=\"black\"> [SEP]                        </font></mark><mark style=\"background-color: hsl(120, 75%, 75%); opacity:1.0;                         line-height:1.75\"><font color=\"black\"> 手机                        </font></mark><mark style=\"background-color: hsl(120, 75%, 70%); opacity:1.0;                         line-height:1.75\"><font color=\"black\"> 运行                        </font></mark><mark style=\"background-color: hsl(120, 75%, 75%); opacity:1.0;                         line-height:1.75\"><font color=\"black\"> 内存                        </font></mark><mark style=\"background-color: hsl(120, 75%, 76%); opacity:1.0;                         line-height:1.75\"><font color=\"black\"> 能                        </font></mark><mark style=\"background-color: hsl(120, 75%, 79%); opacity:1.0;                         line-height:1.75\"><font color=\"black\"> 扩展                        </font></mark><mark style=\"background-color: hsl(120, 75%, 79%); opacity:1.0;                         line-height:1.75\"><font color=\"black\"> 吗                        </font></mark><mark style=\"background-color: hsl(120, 75%, 78%); opacity:1.0;                         line-height:1.75\"><font color=\"black\"> ？                        </font></mark><mark style=\"background-color: hsl(120, 75%, 83%); opacity:1.0;                         line-height:1.75\"><font color=\"black\"> 如果                        </font></mark><mark style=\"background-color: hsl(120, 75%, 78%); opacity:1.0;                         line-height:1.75\"><font color=\"black\"> 有                        </font></mark><mark style=\"background-color: hsl(120, 75%, 80%); opacity:1.0;                         line-height:1.75\"><font color=\"black\"> 怎么                        </font></mark><mark style=\"background-color: hsl(120, 75%, 78%); opacity:1.0;                         line-height:1.75\"><font color=\"black\"> 扩展                        </font></mark><mark style=\"background-color: hsl(120, 75%, 83%); opacity:1.0;                         line-height:1.75\"><font color=\"black\"> ？                        </font></mark><mark style=\"background-color: hsl(0, 75%, 100%); opacity:1.0;                         line-height:1.75\"><font color=\"black\"> [SEP]                        </font></mark></td><tr><tr><td align=\"center\"><text style=\"padding-right:2em\"><b>1</b></text></td><td align=\"center\"><text style=\"padding-right:2em\"><b>1 (0.91)</b></text></td><td><mark style=\"background-color: hsl(0, 75%, 100%); opacity:1.0;                         line-height:1.75\"><font color=\"black\"> [CLS]                        </font></mark><mark style=\"background-color: hsl(120, 75%, 83%); opacity:1.0;                         line-height:1.75\"><font color=\"black\"> 宝宝                        </font></mark><mark style=\"background-color: hsl(120, 75%, 78%); opacity:1.0;                         line-height:1.75\"><font color=\"black\"> 起名                        </font></mark><mark style=\"background-color: hsl(120, 75%, 70%); opacity:1.0;                         line-height:1.75\"><font color=\"black\"> 五行                        </font></mark><mark style=\"background-color: hsl(120, 75%, 78%); opacity:1.0;                         line-height:1.75\"><font color=\"black\"> 缺什么                        </font></mark><mark style=\"background-color: hsl(120, 75%, 83%); opacity:1.0;                         line-height:1.75\"><font color=\"black\"> ？                        </font></mark><mark style=\"background-color: hsl(120, 75%, 99%); opacity:1.0;                         line-height:1.75\"><font color=\"black\"> [SEP]                        </font></mark><mark style=\"background-color: hsl(120, 75%, 83%); opacity:1.0;                         line-height:1.75\"><font color=\"black\"> 测                        </font></mark><mark style=\"background-color: hsl(120, 75%, 76%); opacity:1.0;                         line-height:1.75\"><font color=\"black\"> 五行                        </font></mark><mark style=\"background-color: hsl(120, 75%, 79%); opacity:1.0;                         line-height:1.75\"><font color=\"black\"> 缺什么                        </font></mark><mark style=\"background-color: hsl(120, 75%, 81%); opacity:1.0;                         line-height:1.75\"><font color=\"black\"> 。                        </font></mark><mark style=\"background-color: hsl(120, 75%, 84%); opacity:1.0;                         line-height:1.75\"><font color=\"black\"> 起名                        </font></mark><mark style=\"background-color: hsl(120, 75%, 85%); opacity:1.0;                         line-height:1.75\"><font color=\"black\"> ？                        </font></mark><mark style=\"background-color: hsl(120, 75%, 100%); opacity:1.0;                         line-height:1.75\"><font color=\"black\"> [SEP]                        </font></mark></td><tr><tr><td align=\"center\"><text style=\"padding-right:2em\"><b>0</b></text></td><td align=\"center\"><text style=\"padding-right:2em\"><b>0 (0.98)</b></text></td><td><mark style=\"background-color: hsl(120, 75%, 78%); opacity:1.0;                         line-height:1.75\"><font color=\"black\"> [CLS]                        </font></mark><mark style=\"background-color: hsl(0, 75%, 100%); opacity:1.0;                         line-height:1.75\"><font color=\"black\"> 真空                        </font></mark><mark style=\"background-color: hsl(120, 75%, 96%); opacity:1.0;                         line-height:1.75\"><font color=\"black\"> 压缩                        </font></mark><mark style=\"background-color: hsl(120, 75%, 94%); opacity:1.0;                         line-height:1.75\"><font color=\"black\"> 袋                        </font></mark><mark style=\"background-color: hsl(120, 75%, 97%); opacity:1.0;                         line-height:1.75\"><font color=\"black\"> 怎么样                        </font></mark><mark style=\"background-color: hsl(120, 75%, 90%); opacity:1.0;                         line-height:1.75\"><font color=\"black\"> ？                        </font></mark><mark style=\"background-color: hsl(120, 75%, 70%); opacity:1.0;                         line-height:1.75\"><font color=\"black\"> [SEP]                        </font></mark><mark style=\"background-color: hsl(120, 75%, 100%); opacity:1.0;                         line-height:1.75\"><font color=\"black\"> 真空                        </font></mark><mark style=\"background-color: hsl(120, 75%, 97%); opacity:1.0;                         line-height:1.75\"><font color=\"black\"> 压缩                        </font></mark><mark style=\"background-color: hsl(120, 75%, 96%); opacity:1.0;                         line-height:1.75\"><font color=\"black\"> 袋                        </font></mark><mark style=\"background-color: hsl(120, 75%, 100%); opacity:1.0;                         line-height:1.75\"><font color=\"black\"> 怎么                        </font></mark><mark style=\"background-color: hsl(120, 75%, 77%); opacity:1.0;                         line-height:1.75\"><font color=\"black\"> 卖                        </font></mark><mark style=\"background-color: hsl(120, 75%, 90%); opacity:1.0;                         line-height:1.75\"><font color=\"black\"> ？                        </font></mark><mark style=\"background-color: hsl(120, 75%, 72%); opacity:1.0;                         line-height:1.75\"><font color=\"black\"> [SEP]                        </font></mark></td><tr></table>"
      ],
      "text/plain": [
       "<IPython.core.display.HTML object>"
      ]
     },
     "metadata": {},
     "output_type": "display_data"
    }
   ],
   "source": [
    "from trustai.interpretation.token_level import LIMEInterpreter\n",
    "lime = LIMEInterpreter(model, device=\"gpu\",\n",
    "    unk_id=tokenizer.convert_tokens_to_ids('[UNK]'),\n",
    "    pad_id=tokenizer.convert_tokens_to_ids('[PAD]'))\n",
    "\n",
    "result = lime(preprocess_fn(data), num_samples=1000)\n",
    "align_res = lime.alignment(result, contexts, batch_words, word_offset_maps, subword_offset_maps, special_tokens=[\"[CLS]\", '[SEP]'])\n",
    "\n",
    "# process for vbisualize\n",
    "recs = []\n",
    "for i in range(len(align_res)):\n",
    "    recs.append(VisualizationTextRecord(align_res[i], true_label=true_labels[i]))\n",
    "html = visualize_text(recs)"
   ]
  },
  {
   "cell_type": "markdown",
   "metadata": {},
   "source": [
    "# Attention Interpreter"
   ]
  },
  {
   "cell_type": "code",
   "execution_count": 11,
   "metadata": {},
   "outputs": [
    {
     "data": {
      "text/html": [
       "<table width: 100%, align : center><tr><th>Golden Label</th><th>Predicted Label (Prob)</th><th>Important scores</th><tr><td align=\"center\"><text style=\"padding-right:2em\"><b>1</b></text></td><td align=\"center\"><text style=\"padding-right:2em\"><b>1 (1.00)</b></text></td><td><mark style=\"background-color: hsl(120, 75%, 71%); opacity:1.0;                         line-height:1.75\"><font color=\"black\"> [CLS]                        </font></mark><mark style=\"background-color: hsl(120, 75%, 98%); opacity:1.0;                         line-height:1.75\"><font color=\"black\"> 手机                        </font></mark><mark style=\"background-color: hsl(120, 75%, 97%); opacity:1.0;                         line-height:1.75\"><font color=\"black\"> 运行                        </font></mark><mark style=\"background-color: hsl(120, 75%, 91%); opacity:1.0;                         line-height:1.75\"><font color=\"black\"> 内存                        </font></mark><mark style=\"background-color: hsl(120, 75%, 82%); opacity:1.0;                         line-height:1.75\"><font color=\"black\"> 能                        </font></mark><mark style=\"background-color: hsl(120, 75%, 90%); opacity:1.0;                         line-height:1.75\"><font color=\"black\"> 扩展                        </font></mark><mark style=\"background-color: hsl(120, 75%, 83%); opacity:1.0;                         line-height:1.75\"><font color=\"black\"> 吗                        </font></mark><mark style=\"background-color: hsl(120, 75%, 82%); opacity:1.0;                         line-height:1.75\"><font color=\"black\"> ，                        </font></mark><mark style=\"background-color: hsl(120, 75%, 90%); opacity:1.0;                         line-height:1.75\"><font color=\"black\"> 怎么                        </font></mark><mark style=\"background-color: hsl(120, 75%, 84%); opacity:1.0;                         line-height:1.75\"><font color=\"black\"> 扩                        </font></mark><mark style=\"background-color: hsl(120, 75%, 81%); opacity:1.0;                         line-height:1.75\"><font color=\"black\"> ？                        </font></mark><mark style=\"background-color: hsl(120, 75%, 70%); opacity:1.0;                         line-height:1.75\"><font color=\"black\"> [SEP]                        </font></mark><mark style=\"background-color: hsl(0, 75%, 100%); opacity:1.0;                         line-height:1.75\"><font color=\"black\"> 手机                        </font></mark><mark style=\"background-color: hsl(120, 75%, 97%); opacity:1.0;                         line-height:1.75\"><font color=\"black\"> 运行                        </font></mark><mark style=\"background-color: hsl(120, 75%, 92%); opacity:1.0;                         line-height:1.75\"><font color=\"black\"> 内存                        </font></mark><mark style=\"background-color: hsl(120, 75%, 82%); opacity:1.0;                         line-height:1.75\"><font color=\"black\"> 能                        </font></mark><mark style=\"background-color: hsl(120, 75%, 88%); opacity:1.0;                         line-height:1.75\"><font color=\"black\"> 扩展                        </font></mark><mark style=\"background-color: hsl(120, 75%, 83%); opacity:1.0;                         line-height:1.75\"><font color=\"black\"> 吗                        </font></mark><mark style=\"background-color: hsl(120, 75%, 81%); opacity:1.0;                         line-height:1.75\"><font color=\"black\"> ？                        </font></mark><mark style=\"background-color: hsl(120, 75%, 85%); opacity:1.0;                         line-height:1.75\"><font color=\"black\"> 如果                        </font></mark><mark style=\"background-color: hsl(120, 75%, 75%); opacity:1.0;                         line-height:1.75\"><font color=\"black\"> 有                        </font></mark><mark style=\"background-color: hsl(120, 75%, 88%); opacity:1.0;                         line-height:1.75\"><font color=\"black\"> 怎么                        </font></mark><mark style=\"background-color: hsl(120, 75%, 85%); opacity:1.0;                         line-height:1.75\"><font color=\"black\"> 扩展                        </font></mark><mark style=\"background-color: hsl(120, 75%, 80%); opacity:1.0;                         line-height:1.75\"><font color=\"black\"> ？                        </font></mark><mark style=\"background-color: hsl(120, 75%, 70%); opacity:1.0;                         line-height:1.75\"><font color=\"black\"> [SEP]                        </font></mark></td><tr><tr><td align=\"center\"><text style=\"padding-right:2em\"><b>1</b></text></td><td align=\"center\"><text style=\"padding-right:2em\"><b>1 (0.91)</b></text></td><td><mark style=\"background-color: hsl(120, 75%, 70%); opacity:1.0;                         line-height:1.75\"><font color=\"black\"> [CLS]                        </font></mark><mark style=\"background-color: hsl(120, 75%, 83%); opacity:1.0;                         line-height:1.75\"><font color=\"black\"> 宝宝                        </font></mark><mark style=\"background-color: hsl(120, 75%, 80%); opacity:1.0;                         line-height:1.75\"><font color=\"black\"> 起名                        </font></mark><mark style=\"background-color: hsl(120, 75%, 86%); opacity:1.0;                         line-height:1.75\"><font color=\"black\"> 五行                        </font></mark><mark style=\"background-color: hsl(120, 75%, 88%); opacity:1.0;                         line-height:1.75\"><font color=\"black\"> 缺什么                        </font></mark><mark style=\"background-color: hsl(120, 75%, 83%); opacity:1.0;                         line-height:1.75\"><font color=\"black\"> ？                        </font></mark><mark style=\"background-color: hsl(120, 75%, 70%); opacity:1.0;                         line-height:1.75\"><font color=\"black\"> [SEP]                        </font></mark><mark style=\"background-color: hsl(120, 75%, 79%); opacity:1.0;                         line-height:1.75\"><font color=\"black\"> 测                        </font></mark><mark style=\"background-color: hsl(120, 75%, 96%); opacity:1.0;                         line-height:1.75\"><font color=\"black\"> 五行                        </font></mark><mark style=\"background-color: hsl(0, 75%, 100%); opacity:1.0;                         line-height:1.75\"><font color=\"black\"> 缺什么                        </font></mark><mark style=\"background-color: hsl(120, 75%, 86%); opacity:1.0;                         line-height:1.75\"><font color=\"black\"> 。                        </font></mark><mark style=\"background-color: hsl(120, 75%, 87%); opacity:1.0;                         line-height:1.75\"><font color=\"black\"> 起名                        </font></mark><mark style=\"background-color: hsl(120, 75%, 83%); opacity:1.0;                         line-height:1.75\"><font color=\"black\"> ？                        </font></mark><mark style=\"background-color: hsl(120, 75%, 70%); opacity:1.0;                         line-height:1.75\"><font color=\"black\"> [SEP]                        </font></mark></td><tr><tr><td align=\"center\"><text style=\"padding-right:2em\"><b>0</b></text></td><td align=\"center\"><text style=\"padding-right:2em\"><b>0 (0.98)</b></text></td><td><mark style=\"background-color: hsl(120, 75%, 70%); opacity:1.0;                         line-height:1.75\"><font color=\"black\"> [CLS]                        </font></mark><mark style=\"background-color: hsl(120, 75%, 90%); opacity:1.0;                         line-height:1.75\"><font color=\"black\"> 真空                        </font></mark><mark style=\"background-color: hsl(120, 75%, 86%); opacity:1.0;                         line-height:1.75\"><font color=\"black\"> 压缩                        </font></mark><mark style=\"background-color: hsl(120, 75%, 78%); opacity:1.0;                         line-height:1.75\"><font color=\"black\"> 袋                        </font></mark><mark style=\"background-color: hsl(120, 75%, 71%); opacity:1.0;                         line-height:1.75\"><font color=\"black\"> 怎么样                        </font></mark><mark style=\"background-color: hsl(120, 75%, 78%); opacity:1.0;                         line-height:1.75\"><font color=\"black\"> ？                        </font></mark><mark style=\"background-color: hsl(120, 75%, 70%); opacity:1.0;                         line-height:1.75\"><font color=\"black\"> [SEP]                        </font></mark><mark style=\"background-color: hsl(0, 75%, 100%); opacity:1.0;                         line-height:1.75\"><font color=\"black\"> 真空                        </font></mark><mark style=\"background-color: hsl(120, 75%, 96%); opacity:1.0;                         line-height:1.75\"><font color=\"black\"> 压缩                        </font></mark><mark style=\"background-color: hsl(120, 75%, 84%); opacity:1.0;                         line-height:1.75\"><font color=\"black\"> 袋                        </font></mark><mark style=\"background-color: hsl(120, 75%, 85%); opacity:1.0;                         line-height:1.75\"><font color=\"black\"> 怎么                        </font></mark><mark style=\"background-color: hsl(120, 75%, 77%); opacity:1.0;                         line-height:1.75\"><font color=\"black\"> 卖                        </font></mark><mark style=\"background-color: hsl(120, 75%, 78%); opacity:1.0;                         line-height:1.75\"><font color=\"black\"> ？                        </font></mark><mark style=\"background-color: hsl(120, 75%, 70%); opacity:1.0;                         line-height:1.75\"><font color=\"black\"> [SEP]                        </font></mark></td><tr></table>"
      ],
      "text/plain": [
       "<IPython.core.display.HTML object>"
      ]
     },
     "metadata": {},
     "output_type": "display_data"
    }
   ],
   "source": [
    "from trustai.interpretation.token_level.common import attention_predict_fn_on_paddlenlp\n",
    "from trustai.interpretation.token_level import AttentionInterpreter\n",
    "\n",
    "att = AttentionInterpreter(model, device=\"gpu\", predict_fn=attention_predict_fn_on_paddlenlp)\n",
    "\n",
    "result = att(preprocess_fn(data))\n",
    "align_res = att.alignment(result, contexts, batch_words, word_offset_maps, subword_offset_maps, special_tokens=[\"[CLS]\", '[SEP]'])\n",
    "\n",
    "# process for vbisualize\n",
    "recs = []\n",
    "for i in range(len(align_res)):\n",
    "    recs.append(VisualizationTextRecord(align_res[i], true_label=true_labels[i]))\n",
    "html = visualize_text(recs)"
   ]
  },
  {
   "cell_type": "markdown",
   "metadata": {},
   "source": [
    "# GradShap Interpreter"
   ]
  },
  {
   "cell_type": "code",
   "execution_count": 12,
   "metadata": {},
   "outputs": [
    {
     "data": {
      "text/html": [
       "<table width: 100%, align : center><tr><th>Golden Label</th><th>Predicted Label (Prob)</th><th>Important scores</th><tr><td align=\"center\"><text style=\"padding-right:2em\"><b>1</b></text></td><td align=\"center\"><text style=\"padding-right:2em\"><b>1 (1.00)</b></text></td><td><mark style=\"background-color: hsl(120, 75%, 94%); opacity:1.0;                         line-height:1.75\"><font color=\"black\"> [CLS]                        </font></mark><mark style=\"background-color: hsl(120, 75%, 70%); opacity:1.0;                         line-height:1.75\"><font color=\"black\"> 手机                        </font></mark><mark style=\"background-color: hsl(120, 75%, 79%); opacity:1.0;                         line-height:1.75\"><font color=\"black\"> 运行                        </font></mark><mark style=\"background-color: hsl(120, 75%, 77%); opacity:1.0;                         line-height:1.75\"><font color=\"black\"> 内存                        </font></mark><mark style=\"background-color: hsl(120, 75%, 88%); opacity:1.0;                         line-height:1.75\"><font color=\"black\"> 能                        </font></mark><mark style=\"background-color: hsl(120, 75%, 90%); opacity:1.0;                         line-height:1.75\"><font color=\"black\"> 扩展                        </font></mark><mark style=\"background-color: hsl(120, 75%, 92%); opacity:1.0;                         line-height:1.75\"><font color=\"black\"> 吗                        </font></mark><mark style=\"background-color: hsl(120, 75%, 95%); opacity:1.0;                         line-height:1.75\"><font color=\"black\"> ，                        </font></mark><mark style=\"background-color: hsl(120, 75%, 95%); opacity:1.0;                         line-height:1.75\"><font color=\"black\"> 怎么                        </font></mark><mark style=\"background-color: hsl(120, 75%, 92%); opacity:1.0;                         line-height:1.75\"><font color=\"black\"> 扩                        </font></mark><mark style=\"background-color: hsl(120, 75%, 97%); opacity:1.0;                         line-height:1.75\"><font color=\"black\"> ？                        </font></mark><mark style=\"background-color: hsl(120, 75%, 97%); opacity:1.0;                         line-height:1.75\"><font color=\"black\"> [SEP]                        </font></mark><mark style=\"background-color: hsl(120, 75%, 86%); opacity:1.0;                         line-height:1.75\"><font color=\"black\"> 手机                        </font></mark><mark style=\"background-color: hsl(120, 75%, 82%); opacity:1.0;                         line-height:1.75\"><font color=\"black\"> 运行                        </font></mark><mark style=\"background-color: hsl(120, 75%, 86%); opacity:1.0;                         line-height:1.75\"><font color=\"black\"> 内存                        </font></mark><mark style=\"background-color: hsl(120, 75%, 92%); opacity:1.0;                         line-height:1.75\"><font color=\"black\"> 能                        </font></mark><mark style=\"background-color: hsl(120, 75%, 93%); opacity:1.0;                         line-height:1.75\"><font color=\"black\"> 扩展                        </font></mark><mark style=\"background-color: hsl(120, 75%, 95%); opacity:1.0;                         line-height:1.75\"><font color=\"black\"> 吗                        </font></mark><mark style=\"background-color: hsl(120, 75%, 97%); opacity:1.0;                         line-height:1.75\"><font color=\"black\"> ？                        </font></mark><mark style=\"background-color: hsl(120, 75%, 89%); opacity:1.0;                         line-height:1.75\"><font color=\"black\"> 如果                        </font></mark><mark style=\"background-color: hsl(120, 75%, 94%); opacity:1.0;                         line-height:1.75\"><font color=\"black\"> 有                        </font></mark><mark style=\"background-color: hsl(120, 75%, 100%); opacity:1.0;                         line-height:1.75\"><font color=\"black\"> 怎么                        </font></mark><mark style=\"background-color: hsl(120, 75%, 98%); opacity:1.0;                         line-height:1.75\"><font color=\"black\"> 扩展                        </font></mark><mark style=\"background-color: hsl(0, 75%, 100%); opacity:1.0;                         line-height:1.75\"><font color=\"black\"> ？                        </font></mark><mark style=\"background-color: hsl(120, 75%, 100%); opacity:1.0;                         line-height:1.75\"><font color=\"black\"> [SEP]                        </font></mark></td><tr><tr><td align=\"center\"><text style=\"padding-right:2em\"><b>1</b></text></td><td align=\"center\"><text style=\"padding-right:2em\"><b>1 (0.91)</b></text></td><td><mark style=\"background-color: hsl(120, 75%, 93%); opacity:1.0;                         line-height:1.75\"><font color=\"black\"> [CLS]                        </font></mark><mark style=\"background-color: hsl(120, 75%, 73%); opacity:1.0;                         line-height:1.75\"><font color=\"black\"> 宝宝                        </font></mark><mark style=\"background-color: hsl(120, 75%, 70%); opacity:1.0;                         line-height:1.75\"><font color=\"black\"> 起名                        </font></mark><mark style=\"background-color: hsl(120, 75%, 78%); opacity:1.0;                         line-height:1.75\"><font color=\"black\"> 五行                        </font></mark><mark style=\"background-color: hsl(120, 75%, 89%); opacity:1.0;                         line-height:1.75\"><font color=\"black\"> 缺什么                        </font></mark><mark style=\"background-color: hsl(0, 75%, 100%); opacity:1.0;                         line-height:1.75\"><font color=\"black\"> ？                        </font></mark><mark style=\"background-color: hsl(120, 75%, 97%); opacity:1.0;                         line-height:1.75\"><font color=\"black\"> [SEP]                        </font></mark><mark style=\"background-color: hsl(120, 75%, 87%); opacity:1.0;                         line-height:1.75\"><font color=\"black\"> 测                        </font></mark><mark style=\"background-color: hsl(120, 75%, 90%); opacity:1.0;                         line-height:1.75\"><font color=\"black\"> 五行                        </font></mark><mark style=\"background-color: hsl(120, 75%, 86%); opacity:1.0;                         line-height:1.75\"><font color=\"black\"> 缺什么                        </font></mark><mark style=\"background-color: hsl(120, 75%, 94%); opacity:1.0;                         line-height:1.75\"><font color=\"black\"> 。                        </font></mark><mark style=\"background-color: hsl(120, 75%, 75%); opacity:1.0;                         line-height:1.75\"><font color=\"black\"> 起名                        </font></mark><mark style=\"background-color: hsl(120, 75%, 99%); opacity:1.0;                         line-height:1.75\"><font color=\"black\"> ？                        </font></mark><mark style=\"background-color: hsl(120, 75%, 99%); opacity:1.0;                         line-height:1.75\"><font color=\"black\"> [SEP]                        </font></mark></td><tr><tr><td align=\"center\"><text style=\"padding-right:2em\"><b>0</b></text></td><td align=\"center\"><text style=\"padding-right:2em\"><b>0 (0.98)</b></text></td><td><mark style=\"background-color: hsl(120, 75%, 86%); opacity:1.0;                         line-height:1.75\"><font color=\"black\"> [CLS]                        </font></mark><mark style=\"background-color: hsl(120, 75%, 100%); opacity:1.0;                         line-height:1.75\"><font color=\"black\"> 真空                        </font></mark><mark style=\"background-color: hsl(120, 75%, 93%); opacity:1.0;                         line-height:1.75\"><font color=\"black\"> 压缩                        </font></mark><mark style=\"background-color: hsl(120, 75%, 91%); opacity:1.0;                         line-height:1.75\"><font color=\"black\"> 袋                        </font></mark><mark style=\"background-color: hsl(120, 75%, 94%); opacity:1.0;                         line-height:1.75\"><font color=\"black\"> 怎么样                        </font></mark><mark style=\"background-color: hsl(120, 75%, 90%); opacity:1.0;                         line-height:1.75\"><font color=\"black\"> ？                        </font></mark><mark style=\"background-color: hsl(120, 75%, 84%); opacity:1.0;                         line-height:1.75\"><font color=\"black\"> [SEP]                        </font></mark><mark style=\"background-color: hsl(120, 75%, 98%); opacity:1.0;                         line-height:1.75\"><font color=\"black\"> 真空                        </font></mark><mark style=\"background-color: hsl(0, 75%, 100%); opacity:1.0;                         line-height:1.75\"><font color=\"black\"> 压缩                        </font></mark><mark style=\"background-color: hsl(120, 75%, 91%); opacity:1.0;                         line-height:1.75\"><font color=\"black\"> 袋                        </font></mark><mark style=\"background-color: hsl(120, 75%, 83%); opacity:1.0;                         line-height:1.75\"><font color=\"black\"> 怎么                        </font></mark><mark style=\"background-color: hsl(120, 75%, 70%); opacity:1.0;                         line-height:1.75\"><font color=\"black\"> 卖                        </font></mark><mark style=\"background-color: hsl(120, 75%, 84%); opacity:1.0;                         line-height:1.75\"><font color=\"black\"> ？                        </font></mark><mark style=\"background-color: hsl(120, 75%, 82%); opacity:1.0;                         line-height:1.75\"><font color=\"black\"> [SEP]                        </font></mark></td><tr></table>"
      ],
      "text/plain": [
       "<IPython.core.display.HTML object>"
      ]
     },
     "metadata": {},
     "output_type": "display_data"
    }
   ],
   "source": [
    "from trustai.interpretation.token_level import GradShapInterpreter\n",
    "gradshap = GradShapInterpreter(model, device=\"gpu\", n_samples=50, noise_amount=0.1)\n",
    "result = gradshap(preprocess_fn(data))\n",
    "align_res = gradshap.alignment(result, contexts, batch_words, word_offset_maps, subword_offset_maps, special_tokens=[\"[CLS]\", '[SEP]'])\n",
    "\n",
    "# process for vbisualize\n",
    "recs = []\n",
    "for i in range(len(align_res)):\n",
    "    recs.append(VisualizationTextRecord(align_res[i], true_label=true_labels[i]))\n",
    "html = visualize_text(recs)"
   ]
  }
 ],
 "metadata": {
  "kernelspec": {
   "display_name": "Python 3.9.7 64-bit ('zs_py39': conda)",
   "metadata": {
    "interpreter": {
     "hash": "acea1e9fb1ca687a228f6dc71ee62aa15fcb20ac41dec3d8a9e155f35234403c"
    }
   },
   "name": "python3"
  },
  "language_info": {
   "name": "python",
   "version": "3.9.7-final"
  },
  "orig_nbformat": 4
 },
 "nbformat": 4,
 "nbformat_minor": 2
}
